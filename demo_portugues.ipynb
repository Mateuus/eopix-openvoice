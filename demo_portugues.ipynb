{
  "cells": [
    {
      "cell_type": "markdown",
      "metadata": {},
      "source": [
        "## Clonagem de Voz em Português\n",
        "\n",
        "Este notebook demonstra como gerar voz clonada em português usando OpenVoice.\n"
      ]
    },
    {
      "cell_type": "code",
      "execution_count": null,
      "metadata": {},
      "outputs": [],
      "source": [
        "import os\n",
        "# Garantir que estamos no diretório correto\n",
        "expected_dir = '/home/mateuus/projects/eopix/openvoice-server'\n",
        "if os.getcwd() != expected_dir:\n",
        "    print(f\"Mudando diretório de {os.getcwd()} para {expected_dir}\")\n",
        "    os.chdir(expected_dir)\n",
        "print(f\"Diretório atual: {os.getcwd()}\")\n",
        "\n",
        "import torch\n",
        "from openvoice import se_extractor\n",
        "from openvoice.api import ToneColorConverter\n",
        "from openai import OpenAI\n",
        "from dotenv import load_dotenv\n",
        "\n",
        "# Carregar variáveis de ambiente\n",
        "load_dotenv()\n"
      ]
    }
  ],
  "metadata": {
    "language_info": {
      "name": "python"
    }
  },
  "nbformat": 4,
  "nbformat_minor": 2
}
