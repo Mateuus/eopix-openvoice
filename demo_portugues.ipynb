{
  "cells": [
    {
      "cell_type": "markdown",
      "metadata": {},
      "source": [
        "## Clonagem de Voz em Português\n",
        "\n",
        "Este notebook demonstra como gerar voz clonada em português usando OpenVoice.\n"
      ]
    },
    {
      "cell_type": "code",
      "execution_count": null,
      "metadata": {},
      "outputs": [],
      "source": [
        "import os\n",
        "# Garantir que estamos no diretório correto\n",
        "expected_dir = '/home/mateuus/projects/eopix/openvoice-server'\n",
        "if os.getcwd() != expected_dir:\n",
        "    print(f\"Mudando diretório de {os.getcwd()} para {expected_dir}\")\n",
        "    os.chdir(expected_dir)\n",
        "print(f\"Diretório atual: {os.getcwd()}\")\n",
        "\n",
        "import torch\n",
        "from openvoice import se_extractor\n",
        "from openvoice.api import ToneColorConverter\n",
        "from openai import OpenAI\n",
        "from dotenv import load_dotenv\n",
        "\n",
        "# Carregar variáveis de ambiente\n",
        "load_dotenv()\n"
      ]
    },
    {
      "cell_type": "markdown",
      "metadata": {},
      "source": [
        "### Configuração\n"
      ]
    },
    {
      "cell_type": "code",
      "execution_count": null,
      "metadata": {},
      "outputs": [],
      "source": [
        "# Configurações\n",
        "ckpt_converter = 'checkpoints/converter'\n",
        "device = \"cuda:0\" if torch.cuda.is_available() else \"cpu\"\n",
        "output_dir = 'outputs'\n",
        "\n",
        "print(f\"Device: {device}\")\n",
        "print(f\"Output directory: {output_dir}\")\n",
        "\n",
        "# Carregar o conversor de cor de tom\n",
        "tone_color_converter = ToneColorConverter(\n",
        "    f'{ckpt_converter}/config.json', \n",
        "    device=device\n",
        ")\n",
        "tone_color_converter.load_ckpt(f'{ckpt_converter}/checkpoint.pth')\n",
        "\n",
        "os.makedirs(output_dir, exist_ok=True)\n",
        "print(\"✓ Conversor carregado com sucesso\")\n"
      ]
    },
    {
      "cell_type": "markdown",
      "metadata": {},
      "source": [
        "### Abordagem para Português\n",
        "\n",
        "Para gerar voz em português com OpenVoice, usamos **OpenAI TTS** como base speaker.\n",
        "\n",
        "O OpenVoice funciona assim:\n",
        "1. Gera o áudio com um base speaker (pode ser em qualquer idioma)\n",
        "2. Aplica a cor de tom (timbre) da voz de referência\n",
        "\n",
        "Para português, usamos:\n",
        "- **Base speaker**: OpenAI TTS em português\n",
        "- **Cor de tom**: Qualquer voz de referência que você quiser clonar\n"
      ]
    },
    {
      "cell_type": "markdown",
      "metadata": {},
      "source": [
        "### 1. Gerar base speaker usando OpenAI TTS\n"
      ]
    },
    {
      "cell_type": "code",
      "execution_count": null,
      "metadata": {},
      "outputs": [],
      "source": [
        "# Inicializar cliente OpenAI\n",
        "client = OpenAI(api_key=os.environ.get(\"OPENAI_API_KEY\"))\n",
        "\n",
        "# Gerar um áudio em português usando OpenAI TTS\n",
        "texto_base = \"Olá, este é um teste de clonagem de voz em português brasileiro.\"\n",
        "print(f\"Gerando áudio base em português: {texto_base}\")\n",
        "\n",
        "response = client.audio.speech.create(\n",
        "    model=\"tts-1\",\n",
        "    voice=\"nova\",\n",
        "    input=texto_base\n",
        ")\n",
        "\n",
        "base_speaker_path = f\"{output_dir}/base_pt.wav\"\n",
        "response.stream_to_file(base_speaker_path)\n",
        "print(f\"✓ Base speaker gerado: {base_speaker_path}\")\n"
      ]
    },
    {
      "cell_type": "markdown",
      "metadata": {},
      "source": [
        "### 2. Extrair embeddings de cor de tom\n"
      ]
    },
    {
      "cell_type": "code",
      "execution_count": null,
      "metadata": {},
      "outputs": [],
      "source": [
        "# Extrair embedding do base speaker (áudio gerado pelo OpenAI TTS)\n",
        "print(\"Extraindo embedding do base speaker...\")\n",
        "source_se, audio_name = se_extractor.get_se(\n",
        "    base_speaker_path, \n",
        "    tone_color_converter, \n",
        "    vad=True\n",
        ")\n",
        "print(f\"✓ Source SE extraído: {audio_name}\")\n"
      ]
    },
    {
      "cell_type": "code",
      "execution_count": null,
      "metadata": {},
      "outputs": [],
      "source": [
        "# Extrair embedding da voz de referência\n",
        "# Use um arquivo de áudio de 3-10 segundos com a voz que você quer clonar\n",
        "reference_speaker = 'resources/example_reference.mp3'  # Troque pelo seu arquivo\n",
        "\n",
        "print(f\"Extraindo embedding da voz de referência: {reference_speaker}\")\n",
        "target_se, audio_name = se_extractor.get_se(\n",
        "    reference_speaker, \n",
        "    tone_color_converter, \n",
        "    vad=True\n",
        ")\n",
        "print(f\"✓ Target SE extraído: {audio_name}\")\n"
      ]
    },
    {
      "cell_type": "markdown",
      "metadata": {},
      "source": [
        "### 3. Gerar voz clonada em português\n"
      ]
    },
    {
      "cell_type": "code",
      "execution_count": null,
      "metadata": {},
      "outputs": [],
      "source": [
        "# Textos para gerar em português\n",
        "textos_pt = [\n",
        "    \"Olá, este é o OpenVoice, um sistema de clonagem de voz.\",\n",
        "    \"Ele pode replicar a cor tonal de qualquer voz de referência.\",\n",
        "    \"É possível gerar fala em múltiplos idiomas e com diferentes emoções.\"\n",
        "]\n",
        "\n",
        "src_path = f'{output_dir}/tmp_pt.wav'\n",
        "\n",
        "for i, texto in enumerate(textos_pt):\n",
        "    print(f\"\\n[{i+1}/{len(textos_pt)}] Processando: {texto}\")\n",
        "    \n",
        "    # 1. Gerar TTS em português com OpenAI\n",
        "    response = client.audio.speech.create(\n",
        "        model=\"tts-1\",\n",
        "        voice=\"nova\",\n",
        "        input=texto\n",
        "    )\n",
        "    response.stream_to_file(src_path)\n",
        "    \n",
        "    # 2. Aplicar clonagem de voz\n",
        "    save_path = f'{output_dir}/output_pt_{i}.wav'\n",
        "    \n",
        "    encode_message = \"@MyShell\"\n",
        "    tone_color_converter.convert(\n",
        "        audio_src_path=src_path,\n",
        "        src_se=source_se,\n",
        "        tgt_se=target_se,\n",
        "        output_path=save_path,\n",
        "        message=encode_message\n",
        "    )\n",
        "    \n",
        "    print(f\"✓ Arquivo gerado: {save_path}\")\n",
        "\n",
        "print(\"\\n🎉 Todos os arquivos foram gerados com sucesso!\")\n",
        "print(f\"📂 Verifique os arquivos em: {output_dir}/\")\n"
      ]
    },
    {
      "cell_type": "markdown",
      "metadata": {},
      "source": [
        "### 📝 Notas Importantes\n",
        "\n",
        "#### ❌ Você NÃO precisa criar checkpoints\n",
        "Os arquivos necessários já existem:\n",
        "- `checkpoints_v2/base_speakers/ses/en-br.pth` - Português Brasileiro\n",
        "- `checkpoints/converter/checkpoint.pth` - Conversor de cor de tom\n",
        "\n",
        "#### ✅ Como funciona a clonagem\n",
        "1. **Base Speaker**: Gera o conteúdo de fala (texto → áudio)\n",
        "   - Usamos OpenAI TTS para português\n",
        "2. **Conversor de Cor de Tom**: Aplica o timbre da voz de referência\n",
        "   - Captura a voz de referência e aplica no base speaker\n",
        "\n",
        "#### 🔧 Ajustar para sua voz\n",
        "Troque o arquivo `reference_speaker` pelo seu áudio:\n",
        "- 3-10 segundos de áudio\n",
        "- Fala clara e limpa\n",
        "- Qualquer formato (mp3, wav, etc)\n",
        "\n",
        "#### 🚀 Melhorias futuras\n",
        "Para melhor qualidade, instale o MeloTTS:\n",
        "```bash\n",
        "pip install melo-tts\n",
        "```\n",
        "Depois use o arquivo `en-br.pth` conforme demonstrado no `demo_part3.ipynb`\n"
      ]
    }
  ],
  "metadata": {
    "language_info": {
      "name": "python"
    }
  },
  "nbformat": 4,
  "nbformat_minor": 2
}
